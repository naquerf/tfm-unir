{
 "cells": [
  {
   "cell_type": "markdown",
   "id": "e7131703",
   "metadata": {},
   "source": [
    "# Procesamiento de datos de spotify\n",
    "En este notebook se realizará la consulta y procesamiento de los datos que serán utilizados para el proyecto"
   ]
  },
  {
   "cell_type": "code",
   "execution_count": 1,
   "id": "8cb81378",
   "metadata": {},
   "outputs": [],
   "source": [
    "import glob\n",
    "import pandas as pd\n",
    "import numpy as np"
   ]
  },
  {
   "cell_type": "code",
   "execution_count": 2,
   "id": "4b0f8a9f",
   "metadata": {},
   "outputs": [],
   "source": [
    "path = \"user_streaming_history\"\n",
    "csv_files = glob.glob(path + \"/*.json\")\n",
    "\n",
    "# Read each CSV file into DataFrame\n",
    "# This creates a list of dataframes\n",
    "df_list = (pd.read_json(file) for file in csv_files)\n",
    "\n",
    "# Concatenate all DataFrames\n",
    "big_df   = pd.concat(df_list, ignore_index=True)"
   ]
  },
  {
   "cell_type": "code",
   "execution_count": 3,
   "id": "1044e14c",
   "metadata": {},
   "outputs": [
    {
     "name": "stdout",
     "output_type": "stream",
     "text": [
      "<class 'pandas.core.frame.DataFrame'>\n",
      "RangeIndex: 51189 entries, 0 to 51188\n",
      "Data columns (total 21 columns):\n",
      " #   Column                             Non-Null Count  Dtype \n",
      "---  ------                             --------------  ----- \n",
      " 0   ts                                 51189 non-null  object\n",
      " 1   username                           51189 non-null  object\n",
      " 2   platform                           51189 non-null  object\n",
      " 3   ms_played                          51189 non-null  int64 \n",
      " 4   conn_country                       51189 non-null  object\n",
      " 5   ip_addr_decrypted                  51189 non-null  object\n",
      " 6   user_agent_decrypted               51189 non-null  object\n",
      " 7   master_metadata_track_name         51186 non-null  object\n",
      " 8   master_metadata_album_artist_name  51186 non-null  object\n",
      " 9   master_metadata_album_album_name   51186 non-null  object\n",
      " 10  spotify_track_uri                  51186 non-null  object\n",
      " 11  episode_name                       3 non-null      object\n",
      " 12  episode_show_name                  3 non-null      object\n",
      " 13  spotify_episode_uri                3 non-null      object\n",
      " 14  reason_start                       51189 non-null  object\n",
      " 15  reason_end                         51189 non-null  object\n",
      " 16  shuffle                            51189 non-null  bool  \n",
      " 17  skipped                            51189 non-null  bool  \n",
      " 18  offline                            51189 non-null  bool  \n",
      " 19  offline_timestamp                  51189 non-null  int64 \n",
      " 20  incognito_mode                     51189 non-null  bool  \n",
      "dtypes: bool(4), int64(2), object(15)\n",
      "memory usage: 6.8+ MB\n"
     ]
    }
   ],
   "source": [
    "big_df.info()"
   ]
  },
  {
   "cell_type": "markdown",
   "id": "a19912da",
   "metadata": {},
   "source": [
    "## Transformación y limpieza del dataset original"
   ]
  },
  {
   "cell_type": "code",
   "execution_count": 4,
   "id": "0b70fe52",
   "metadata": {},
   "outputs": [],
   "source": [
    "big_df[[\"ts\"]] = big_df[[\"ts\"]].apply(pd.to_datetime)\n",
    "big_df[\"year_played\"] = big_df[\"ts\"].dt.year\n",
    "big_df[\"month_played\"] = big_df[\"ts\"].dt.month\n",
    "big_df[\"min\"] = big_df[\"ms_played\"]/60000\n",
    "big_df=big_df.rename(columns={\"ts\": \"timestamp\", \"conn_country\": \"country\", \"master_metadata_track_name\": \"song_name\", \"master_metadata_album_artist_name\": \"artist_name\"})\n",
    "column_filtered_df = big_df[[\"timestamp\",\"year_played\",\"month_played\",\"min\",\"country\", \"song_name\", \"artist_name\",\"spotify_track_uri\"]]"
   ]
  },
  {
   "cell_type": "code",
   "execution_count": 5,
   "id": "324c6bfc",
   "metadata": {},
   "outputs": [],
   "source": [
    "row_filtered_df = column_filtered_df.dropna()\n",
    "row_filtered_df = row_filtered_df.loc[row_filtered_df[\"year_played\"]==2023]\n",
    "row_filtered_df = row_filtered_df.loc[row_filtered_df[\"min\"]>0]"
   ]
  },
  {
   "cell_type": "markdown",
   "id": "d5096de8",
   "metadata": {},
   "source": [
    "## Agregación por mes"
   ]
  },
  {
   "cell_type": "code",
   "execution_count": 6,
   "id": "467f618b",
   "metadata": {},
   "outputs": [],
   "source": [
    "df_by_month = pd.pivot_table(\n",
    "   row_filtered_df,\n",
    "   index=[\"country\",\"month_played\"],\n",
    "   aggfunc={'min': np.sum, 'country': len}\n",
    ").rename(columns={'country': 'count'})\n",
    "df_by_month.sort_values(by=['min', 'count'],ascending=False, inplace=True)\n",
    "df_by_month.reset_index(inplace=True)"
   ]
  },
  {
   "cell_type": "code",
   "execution_count": 7,
   "id": "870a30c0",
   "metadata": {},
   "outputs": [
    {
     "data": {
      "text/html": [
       "<div>\n",
       "<style scoped>\n",
       "    .dataframe tbody tr th:only-of-type {\n",
       "        vertical-align: middle;\n",
       "    }\n",
       "\n",
       "    .dataframe tbody tr th {\n",
       "        vertical-align: top;\n",
       "    }\n",
       "\n",
       "    .dataframe thead th {\n",
       "        text-align: right;\n",
       "    }\n",
       "</style>\n",
       "<table border=\"1\" class=\"dataframe\">\n",
       "  <thead>\n",
       "    <tr style=\"text-align: right;\">\n",
       "      <th></th>\n",
       "      <th>country</th>\n",
       "      <th>month_played</th>\n",
       "      <th>count</th>\n",
       "      <th>min</th>\n",
       "    </tr>\n",
       "  </thead>\n",
       "  <tbody>\n",
       "    <tr>\n",
       "      <th>0</th>\n",
       "      <td>CO</td>\n",
       "      <td>5</td>\n",
       "      <td>6029</td>\n",
       "      <td>5773.560783</td>\n",
       "    </tr>\n",
       "    <tr>\n",
       "      <th>1</th>\n",
       "      <td>CO</td>\n",
       "      <td>8</td>\n",
       "      <td>4560</td>\n",
       "      <td>5004.908217</td>\n",
       "    </tr>\n",
       "    <tr>\n",
       "      <th>2</th>\n",
       "      <td>CO</td>\n",
       "      <td>1</td>\n",
       "      <td>4480</td>\n",
       "      <td>4742.008300</td>\n",
       "    </tr>\n",
       "    <tr>\n",
       "      <th>3</th>\n",
       "      <td>CO</td>\n",
       "      <td>6</td>\n",
       "      <td>3082</td>\n",
       "      <td>4125.589583</td>\n",
       "    </tr>\n",
       "    <tr>\n",
       "      <th>4</th>\n",
       "      <td>CO</td>\n",
       "      <td>4</td>\n",
       "      <td>3590</td>\n",
       "      <td>4003.579650</td>\n",
       "    </tr>\n",
       "    <tr>\n",
       "      <th>5</th>\n",
       "      <td>CO</td>\n",
       "      <td>7</td>\n",
       "      <td>3446</td>\n",
       "      <td>3871.571550</td>\n",
       "    </tr>\n",
       "    <tr>\n",
       "      <th>6</th>\n",
       "      <td>CO</td>\n",
       "      <td>10</td>\n",
       "      <td>3049</td>\n",
       "      <td>3808.322417</td>\n",
       "    </tr>\n",
       "    <tr>\n",
       "      <th>7</th>\n",
       "      <td>CO</td>\n",
       "      <td>3</td>\n",
       "      <td>2890</td>\n",
       "      <td>3447.676717</td>\n",
       "    </tr>\n",
       "    <tr>\n",
       "      <th>8</th>\n",
       "      <td>CO</td>\n",
       "      <td>9</td>\n",
       "      <td>3148</td>\n",
       "      <td>3401.536200</td>\n",
       "    </tr>\n",
       "    <tr>\n",
       "      <th>9</th>\n",
       "      <td>CO</td>\n",
       "      <td>12</td>\n",
       "      <td>2188</td>\n",
       "      <td>3198.087300</td>\n",
       "    </tr>\n",
       "    <tr>\n",
       "      <th>10</th>\n",
       "      <td>CO</td>\n",
       "      <td>11</td>\n",
       "      <td>2202</td>\n",
       "      <td>2902.434817</td>\n",
       "    </tr>\n",
       "    <tr>\n",
       "      <th>11</th>\n",
       "      <td>CO</td>\n",
       "      <td>2</td>\n",
       "      <td>2162</td>\n",
       "      <td>2284.485050</td>\n",
       "    </tr>\n",
       "  </tbody>\n",
       "</table>\n",
       "</div>"
      ],
      "text/plain": [
       "   country  month_played  count          min\n",
       "0       CO             5   6029  5773.560783\n",
       "1       CO             8   4560  5004.908217\n",
       "2       CO             1   4480  4742.008300\n",
       "3       CO             6   3082  4125.589583\n",
       "4       CO             4   3590  4003.579650\n",
       "5       CO             7   3446  3871.571550\n",
       "6       CO            10   3049  3808.322417\n",
       "7       CO             3   2890  3447.676717\n",
       "8       CO             9   3148  3401.536200\n",
       "9       CO            12   2188  3198.087300\n",
       "10      CO            11   2202  2902.434817\n",
       "11      CO             2   2162  2284.485050"
      ]
     },
     "execution_count": 7,
     "metadata": {},
     "output_type": "execute_result"
    }
   ],
   "source": [
    "df_by_month.head(12)"
   ]
  },
  {
   "cell_type": "markdown",
   "id": "2ec22756",
   "metadata": {},
   "source": [
    "## Agregación de registros por canción"
   ]
  },
  {
   "cell_type": "code",
   "execution_count": 8,
   "id": "92d8c26a",
   "metadata": {},
   "outputs": [],
   "source": [
    "df_by_song = pd.pivot_table(\n",
    "   row_filtered_df,\n",
    "   index=[\"country\",\"song_name\", \"artist_name\"],\n",
    "   aggfunc={'min': np.sum, 'country': len}\n",
    ").rename(columns={'country': 'count'})\n",
    "df_by_song.sort_values(by=['min', 'count'],ascending=False, inplace=True)\n",
    "df_by_song.reset_index(inplace=True)"
   ]
  },
  {
   "cell_type": "code",
   "execution_count": 9,
   "id": "a67567dc",
   "metadata": {},
   "outputs": [
    {
     "name": "stdout",
     "output_type": "stream",
     "text": [
      "<class 'pandas.core.frame.DataFrame'>\n",
      "RangeIndex: 11338 entries, 0 to 11337\n",
      "Data columns (total 5 columns):\n",
      " #   Column       Non-Null Count  Dtype  \n",
      "---  ------       --------------  -----  \n",
      " 0   country      11338 non-null  object \n",
      " 1   song_name    11338 non-null  object \n",
      " 2   artist_name  11338 non-null  object \n",
      " 3   count        11338 non-null  int64  \n",
      " 4   min          11338 non-null  float64\n",
      "dtypes: float64(1), int64(1), object(3)\n",
      "memory usage: 443.0+ KB\n"
     ]
    }
   ],
   "source": [
    "df_by_song.info()"
   ]
  },
  {
   "cell_type": "code",
   "execution_count": 10,
   "id": "c633fb7a",
   "metadata": {},
   "outputs": [],
   "source": [
    "df_by_song_month = pd.pivot_table(\n",
    "   row_filtered_df,\n",
    "   index=[\"country\",\"song_name\", \"artist_name\", \"month_played\"],\n",
    "   aggfunc={'min': np.sum, 'country': len}\n",
    ").rename(columns={'country': 'count'})\n",
    "df_by_song_month.sort_values(by=['min', 'count'],ascending=False, inplace=True)\n",
    "df_by_song_month.reset_index(inplace=True)"
   ]
  },
  {
   "cell_type": "code",
   "execution_count": 11,
   "id": "20453102",
   "metadata": {},
   "outputs": [
    {
     "name": "stdout",
     "output_type": "stream",
     "text": [
      "<class 'pandas.core.frame.DataFrame'>\n",
      "RangeIndex: 21885 entries, 0 to 21884\n",
      "Data columns (total 6 columns):\n",
      " #   Column        Non-Null Count  Dtype  \n",
      "---  ------        --------------  -----  \n",
      " 0   country       21885 non-null  object \n",
      " 1   song_name     21885 non-null  object \n",
      " 2   artist_name   21885 non-null  object \n",
      " 3   month_played  21885 non-null  int64  \n",
      " 4   count         21885 non-null  int64  \n",
      " 5   min           21885 non-null  float64\n",
      "dtypes: float64(1), int64(2), object(3)\n",
      "memory usage: 1.0+ MB\n"
     ]
    }
   ],
   "source": [
    "df_by_song_month.info()"
   ]
  },
  {
   "cell_type": "markdown",
   "id": "e241a8c7",
   "metadata": {},
   "source": [
    "## Agregación de registros por artista"
   ]
  },
  {
   "cell_type": "code",
   "execution_count": 12,
   "id": "ecd3d79e",
   "metadata": {},
   "outputs": [],
   "source": [
    "df_by_artist = pd.pivot_table(\n",
    "   row_filtered_df,\n",
    "   index=[\"country\", \"artist_name\"],\n",
    "   aggfunc={'min': np.sum, 'country': len}\n",
    ").rename(columns={'country': 'count'})\n",
    "df_by_artist.sort_values(by=['min', 'count'],ascending=False, inplace=True)\n",
    "df_by_artist.reset_index(inplace=True)"
   ]
  },
  {
   "cell_type": "code",
   "execution_count": 13,
   "id": "b9409eee",
   "metadata": {},
   "outputs": [
    {
     "name": "stdout",
     "output_type": "stream",
     "text": [
      "<class 'pandas.core.frame.DataFrame'>\n",
      "RangeIndex: 4118 entries, 0 to 4117\n",
      "Data columns (total 4 columns):\n",
      " #   Column       Non-Null Count  Dtype  \n",
      "---  ------       --------------  -----  \n",
      " 0   country      4118 non-null   object \n",
      " 1   artist_name  4118 non-null   object \n",
      " 2   count        4118 non-null   int64  \n",
      " 3   min          4118 non-null   float64\n",
      "dtypes: float64(1), int64(1), object(2)\n",
      "memory usage: 128.8+ KB\n"
     ]
    }
   ],
   "source": [
    "df_by_artist.info()"
   ]
  },
  {
   "cell_type": "code",
   "execution_count": 14,
   "id": "70a695ec",
   "metadata": {},
   "outputs": [],
   "source": [
    "df_by_artist_month = pd.pivot_table(\n",
    "   row_filtered_df,\n",
    "   index=[\"country\", \"artist_name\",\"month_played\"],\n",
    "   aggfunc={'min': np.sum, 'country': len}\n",
    ").rename(columns={'country': 'count'})\n",
    "df_by_artist_month.sort_values(by=['min', 'count'],ascending=False, inplace=True)\n",
    "df_by_artist_month.reset_index(inplace=True)"
   ]
  },
  {
   "cell_type": "code",
   "execution_count": 15,
   "id": "d3161adb",
   "metadata": {},
   "outputs": [
    {
     "name": "stdout",
     "output_type": "stream",
     "text": [
      "<class 'pandas.core.frame.DataFrame'>\n",
      "RangeIndex: 10330 entries, 0 to 10329\n",
      "Data columns (total 5 columns):\n",
      " #   Column        Non-Null Count  Dtype  \n",
      "---  ------        --------------  -----  \n",
      " 0   country       10330 non-null  object \n",
      " 1   artist_name   10330 non-null  object \n",
      " 2   month_played  10330 non-null  int64  \n",
      " 3   count         10330 non-null  int64  \n",
      " 4   min           10330 non-null  float64\n",
      "dtypes: float64(1), int64(2), object(2)\n",
      "memory usage: 403.6+ KB\n"
     ]
    }
   ],
   "source": [
    "df_by_artist_month.info()"
   ]
  }
 ],
 "metadata": {
  "kernelspec": {
   "display_name": "Python 3 (ipykernel)",
   "language": "python",
   "name": "python3"
  },
  "language_info": {
   "codemirror_mode": {
    "name": "ipython",
    "version": 3
   },
   "file_extension": ".py",
   "mimetype": "text/x-python",
   "name": "python",
   "nbconvert_exporter": "python",
   "pygments_lexer": "ipython3",
   "version": "3.9.13"
  }
 },
 "nbformat": 4,
 "nbformat_minor": 5
}
