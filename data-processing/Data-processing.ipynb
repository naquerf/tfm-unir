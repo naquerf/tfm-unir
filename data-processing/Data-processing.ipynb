{
 "cells": [
  {
   "cell_type": "markdown",
   "id": "b0ff07d2",
   "metadata": {},
   "source": [
    "# Procesamiento de datos de spotify\n",
    "En este notebook se realizará la consulta y procesamiento de los datos que serán utilizados para el proyecto"
   ]
  },
  {
   "cell_type": "code",
   "execution_count": 1,
   "id": "4072c1d1",
   "metadata": {},
   "outputs": [],
   "source": [
    "import glob\n",
    "import pandas as pd\n",
    "import numpy as np"
   ]
  },
  {
   "cell_type": "code",
   "execution_count": 2,
   "id": "d29d2488",
   "metadata": {},
   "outputs": [],
   "source": [
    "path = \"user_streaming_history\"\n",
    "csv_files = glob.glob(path + \"/*.json\")\n",
    "\n",
    "# Read each CSV file into DataFrame\n",
    "# This creates a list of dataframes\n",
    "df_list = (pd.read_json(file) for file in csv_files)\n",
    "\n",
    "# Concatenate all DataFrames\n",
    "big_df   = pd.concat(df_list, ignore_index=True)"
   ]
  },
  {
   "cell_type": "code",
   "execution_count": 3,
   "id": "7e193bb9",
   "metadata": {},
   "outputs": [
    {
     "name": "stdout",
     "output_type": "stream",
     "text": [
      "<class 'pandas.core.frame.DataFrame'>\n",
      "RangeIndex: 51189 entries, 0 to 51188\n",
      "Data columns (total 21 columns):\n",
      " #   Column                             Non-Null Count  Dtype \n",
      "---  ------                             --------------  ----- \n",
      " 0   ts                                 51189 non-null  object\n",
      " 1   username                           51189 non-null  object\n",
      " 2   platform                           51189 non-null  object\n",
      " 3   ms_played                          51189 non-null  int64 \n",
      " 4   conn_country                       51189 non-null  object\n",
      " 5   ip_addr_decrypted                  51189 non-null  object\n",
      " 6   user_agent_decrypted               51189 non-null  object\n",
      " 7   master_metadata_track_name         51186 non-null  object\n",
      " 8   master_metadata_album_artist_name  51186 non-null  object\n",
      " 9   master_metadata_album_album_name   51186 non-null  object\n",
      " 10  spotify_track_uri                  51186 non-null  object\n",
      " 11  episode_name                       3 non-null      object\n",
      " 12  episode_show_name                  3 non-null      object\n",
      " 13  spotify_episode_uri                3 non-null      object\n",
      " 14  reason_start                       51189 non-null  object\n",
      " 15  reason_end                         51189 non-null  object\n",
      " 16  shuffle                            51189 non-null  bool  \n",
      " 17  skipped                            51189 non-null  bool  \n",
      " 18  offline                            51189 non-null  bool  \n",
      " 19  offline_timestamp                  51189 non-null  int64 \n",
      " 20  incognito_mode                     51189 non-null  bool  \n",
      "dtypes: bool(4), int64(2), object(15)\n",
      "memory usage: 6.8+ MB\n"
     ]
    }
   ],
   "source": [
    "big_df.info()"
   ]
  },
  {
   "cell_type": "markdown",
   "id": "8a20b568",
   "metadata": {},
   "source": [
    "## Transformación y limpieza del dataset original"
   ]
  },
  {
   "cell_type": "code",
   "execution_count": 4,
   "id": "64ebb70b",
   "metadata": {},
   "outputs": [],
   "source": [
    "big_df[[\"ts\"]] = big_df[[\"ts\"]].apply(pd.to_datetime)\n",
    "big_df[\"year_played\"] = big_df[\"ts\"].dt.year\n",
    "big_df[\"month_played\"] = big_df[\"ts\"].dt.month\n",
    "big_df[\"min\"] = big_df[\"ms_played\"]/60000\n",
    "big_df=big_df.rename(columns={\"ts\": \"timestamp\", \"conn_country\": \"country\", \"master_metadata_track_name\": \"song_name\", \"master_metadata_album_artist_name\": \"artist_name\"})\n",
    "column_filtered_df = big_df[[\"timestamp\",\"year_played\",\"month_played\",\"min\",\"country\", \"song_name\", \"artist_name\",\"spotify_track_uri\"]]"
   ]
  },
  {
   "cell_type": "code",
   "execution_count": 5,
   "id": "2420a94c",
   "metadata": {},
   "outputs": [],
   "source": [
    "row_filtered_df = column_filtered_df.dropna()\n",
    "row_filtered_df = row_filtered_df.loc[row_filtered_df[\"year_played\"]==2023]\n",
    "row_filtered_df = row_filtered_df.loc[row_filtered_df[\"min\"]>0]"
   ]
  },
  {
   "cell_type": "code",
   "execution_count": 26,
   "id": "6b8c2e7a",
   "metadata": {},
   "outputs": [
    {
     "data": {
      "text/html": [
       "<div>\n",
       "<style scoped>\n",
       "    .dataframe tbody tr th:only-of-type {\n",
       "        vertical-align: middle;\n",
       "    }\n",
       "\n",
       "    .dataframe tbody tr th {\n",
       "        vertical-align: top;\n",
       "    }\n",
       "\n",
       "    .dataframe thead th {\n",
       "        text-align: right;\n",
       "    }\n",
       "</style>\n",
       "<table border=\"1\" class=\"dataframe\">\n",
       "  <thead>\n",
       "    <tr style=\"text-align: right;\">\n",
       "      <th></th>\n",
       "      <th>timestamp</th>\n",
       "      <th>year_played</th>\n",
       "      <th>month_played</th>\n",
       "      <th>min</th>\n",
       "      <th>country</th>\n",
       "      <th>song_name</th>\n",
       "      <th>artist_name</th>\n",
       "      <th>spotify_track_uri</th>\n",
       "    </tr>\n",
       "  </thead>\n",
       "  <tbody>\n",
       "    <tr>\n",
       "      <th>2448</th>\n",
       "      <td>2023-01-01 03:03:57+00:00</td>\n",
       "      <td>2023</td>\n",
       "      <td>1</td>\n",
       "      <td>3.715267</td>\n",
       "      <td>CO</td>\n",
       "      <td>Diciembre</td>\n",
       "      <td>Eslabon Armado</td>\n",
       "      <td>spotify:track:5kPEpa2Z7jWjfA6YMq9CGE</td>\n",
       "    </tr>\n",
       "    <tr>\n",
       "      <th>2449</th>\n",
       "      <td>2023-01-01 03:07:12+00:00</td>\n",
       "      <td>2023</td>\n",
       "      <td>1</td>\n",
       "      <td>3.231250</td>\n",
       "      <td>CO</td>\n",
       "      <td>Buena Vibra</td>\n",
       "      <td>Jose Villarreal</td>\n",
       "      <td>spotify:track:6Y2qNukfWKFGbAv2iONhvy</td>\n",
       "    </tr>\n",
       "    <tr>\n",
       "      <th>2450</th>\n",
       "      <td>2023-01-01 03:10:08+00:00</td>\n",
       "      <td>2023</td>\n",
       "      <td>1</td>\n",
       "      <td>2.921600</td>\n",
       "      <td>CO</td>\n",
       "      <td>El Gavilán</td>\n",
       "      <td>Luis R Conriquez</td>\n",
       "      <td>spotify:track:4ygQ5wSuzzNRevVjup1qV2</td>\n",
       "    </tr>\n",
       "    <tr>\n",
       "      <th>2451</th>\n",
       "      <td>2023-01-01 03:12:41+00:00</td>\n",
       "      <td>2023</td>\n",
       "      <td>1</td>\n",
       "      <td>2.533350</td>\n",
       "      <td>CO</td>\n",
       "      <td>4:00 A.M.</td>\n",
       "      <td>Marco Soriano</td>\n",
       "      <td>spotify:track:3ltvVEGIsoN9FXHmrfIclp</td>\n",
       "    </tr>\n",
       "    <tr>\n",
       "      <th>2452</th>\n",
       "      <td>2023-01-01 03:15:44+00:00</td>\n",
       "      <td>2023</td>\n",
       "      <td>1</td>\n",
       "      <td>3.031917</td>\n",
       "      <td>CO</td>\n",
       "      <td>Amanecer</td>\n",
       "      <td>Absa G.</td>\n",
       "      <td>spotify:track:5w5TXv6P9WNf1bnlu7nbqK</td>\n",
       "    </tr>\n",
       "    <tr>\n",
       "      <th>...</th>\n",
       "      <td>...</td>\n",
       "      <td>...</td>\n",
       "      <td>...</td>\n",
       "      <td>...</td>\n",
       "      <td>...</td>\n",
       "      <td>...</td>\n",
       "      <td>...</td>\n",
       "      <td>...</td>\n",
       "    </tr>\n",
       "    <tr>\n",
       "      <th>51183</th>\n",
       "      <td>2023-09-01 05:45:55+00:00</td>\n",
       "      <td>2023</td>\n",
       "      <td>9</td>\n",
       "      <td>0.047800</td>\n",
       "      <td>CO</td>\n",
       "      <td>Super Smash Bros Brawl Drill Beat (Life Ain't ...</td>\n",
       "      <td>Shae OT</td>\n",
       "      <td>spotify:track:73PPGDE65hW7SaZ1zO5mud</td>\n",
       "    </tr>\n",
       "    <tr>\n",
       "      <th>51185</th>\n",
       "      <td>2023-09-01 05:46:00+00:00</td>\n",
       "      <td>2023</td>\n",
       "      <td>9</td>\n",
       "      <td>0.061083</td>\n",
       "      <td>CO</td>\n",
       "      <td>HOLIDAY</td>\n",
       "      <td>Lil Nas X</td>\n",
       "      <td>spotify:track:6zFMeegAMYQo0mt8rXtrli</td>\n",
       "    </tr>\n",
       "    <tr>\n",
       "      <th>51186</th>\n",
       "      <td>2023-09-01 05:46:08+00:00</td>\n",
       "      <td>2023</td>\n",
       "      <td>9</td>\n",
       "      <td>0.127717</td>\n",
       "      <td>CO</td>\n",
       "      <td>Dont Like</td>\n",
       "      <td>Rkm Legend</td>\n",
       "      <td>spotify:track:3aopgnjfN8lBngYzXinNyx</td>\n",
       "    </tr>\n",
       "    <tr>\n",
       "      <th>51187</th>\n",
       "      <td>2023-09-01 05:46:45+00:00</td>\n",
       "      <td>2023</td>\n",
       "      <td>9</td>\n",
       "      <td>0.622500</td>\n",
       "      <td>CO</td>\n",
       "      <td>6IXSPEED</td>\n",
       "      <td>7oh2</td>\n",
       "      <td>spotify:track:56Kb55Pzodbj5cGJcyZW1W</td>\n",
       "    </tr>\n",
       "    <tr>\n",
       "      <th>51188</th>\n",
       "      <td>2023-09-01 05:47:24+00:00</td>\n",
       "      <td>2023</td>\n",
       "      <td>9</td>\n",
       "      <td>0.621517</td>\n",
       "      <td>CO</td>\n",
       "      <td>Automotivo Extradimensional 1.0</td>\n",
       "      <td>DJ Patrick R</td>\n",
       "      <td>spotify:track:4kwS4S0EISsbDUoki7T4AC</td>\n",
       "    </tr>\n",
       "  </tbody>\n",
       "</table>\n",
       "<p>40826 rows × 8 columns</p>\n",
       "</div>"
      ],
      "text/plain": [
       "                      timestamp  year_played  month_played       min country  \\\n",
       "2448  2023-01-01 03:03:57+00:00         2023             1  3.715267      CO   \n",
       "2449  2023-01-01 03:07:12+00:00         2023             1  3.231250      CO   \n",
       "2450  2023-01-01 03:10:08+00:00         2023             1  2.921600      CO   \n",
       "2451  2023-01-01 03:12:41+00:00         2023             1  2.533350      CO   \n",
       "2452  2023-01-01 03:15:44+00:00         2023             1  3.031917      CO   \n",
       "...                         ...          ...           ...       ...     ...   \n",
       "51183 2023-09-01 05:45:55+00:00         2023             9  0.047800      CO   \n",
       "51185 2023-09-01 05:46:00+00:00         2023             9  0.061083      CO   \n",
       "51186 2023-09-01 05:46:08+00:00         2023             9  0.127717      CO   \n",
       "51187 2023-09-01 05:46:45+00:00         2023             9  0.622500      CO   \n",
       "51188 2023-09-01 05:47:24+00:00         2023             9  0.621517      CO   \n",
       "\n",
       "                                               song_name       artist_name  \\\n",
       "2448                                           Diciembre    Eslabon Armado   \n",
       "2449                                         Buena Vibra   Jose Villarreal   \n",
       "2450                                          El Gavilán  Luis R Conriquez   \n",
       "2451                                           4:00 A.M.     Marco Soriano   \n",
       "2452                                            Amanecer           Absa G.   \n",
       "...                                                  ...               ...   \n",
       "51183  Super Smash Bros Brawl Drill Beat (Life Ain't ...           Shae OT   \n",
       "51185                                            HOLIDAY         Lil Nas X   \n",
       "51186                                          Dont Like        Rkm Legend   \n",
       "51187                                           6IXSPEED              7oh2   \n",
       "51188                    Automotivo Extradimensional 1.0      DJ Patrick R   \n",
       "\n",
       "                          spotify_track_uri  \n",
       "2448   spotify:track:5kPEpa2Z7jWjfA6YMq9CGE  \n",
       "2449   spotify:track:6Y2qNukfWKFGbAv2iONhvy  \n",
       "2450   spotify:track:4ygQ5wSuzzNRevVjup1qV2  \n",
       "2451   spotify:track:3ltvVEGIsoN9FXHmrfIclp  \n",
       "2452   spotify:track:5w5TXv6P9WNf1bnlu7nbqK  \n",
       "...                                     ...  \n",
       "51183  spotify:track:73PPGDE65hW7SaZ1zO5mud  \n",
       "51185  spotify:track:6zFMeegAMYQo0mt8rXtrli  \n",
       "51186  spotify:track:3aopgnjfN8lBngYzXinNyx  \n",
       "51187  spotify:track:56Kb55Pzodbj5cGJcyZW1W  \n",
       "51188  spotify:track:4kwS4S0EISsbDUoki7T4AC  \n",
       "\n",
       "[40826 rows x 8 columns]"
      ]
     },
     "execution_count": 26,
     "metadata": {},
     "output_type": "execute_result"
    }
   ],
   "source": [
    "row_filtered_df"
   ]
  },
  {
   "cell_type": "markdown",
   "id": "5faa092a",
   "metadata": {},
   "source": [
    "## Agregación por mes"
   ]
  },
  {
   "cell_type": "code",
   "execution_count": 6,
   "id": "dd16223d",
   "metadata": {},
   "outputs": [],
   "source": [
    "df_by_month = pd.pivot_table(\n",
    "   row_filtered_df,\n",
    "   index=[\"country\",\"month_played\"],\n",
    "   aggfunc={'min': np.sum, 'country': len}\n",
    ").rename(columns={'country': 'count'})\n",
    "df_by_month.sort_values(by=['min', 'count'],ascending=False, inplace=True)\n",
    "df_by_month.reset_index(inplace=True)"
   ]
  },
  {
   "cell_type": "code",
   "execution_count": 7,
   "id": "fa43c6b4",
   "metadata": {},
   "outputs": [
    {
     "data": {
      "text/html": [
       "<div>\n",
       "<style scoped>\n",
       "    .dataframe tbody tr th:only-of-type {\n",
       "        vertical-align: middle;\n",
       "    }\n",
       "\n",
       "    .dataframe tbody tr th {\n",
       "        vertical-align: top;\n",
       "    }\n",
       "\n",
       "    .dataframe thead th {\n",
       "        text-align: right;\n",
       "    }\n",
       "</style>\n",
       "<table border=\"1\" class=\"dataframe\">\n",
       "  <thead>\n",
       "    <tr style=\"text-align: right;\">\n",
       "      <th></th>\n",
       "      <th>country</th>\n",
       "      <th>month_played</th>\n",
       "      <th>count</th>\n",
       "      <th>min</th>\n",
       "    </tr>\n",
       "  </thead>\n",
       "  <tbody>\n",
       "    <tr>\n",
       "      <th>0</th>\n",
       "      <td>CO</td>\n",
       "      <td>5</td>\n",
       "      <td>6029</td>\n",
       "      <td>5773.560783</td>\n",
       "    </tr>\n",
       "    <tr>\n",
       "      <th>1</th>\n",
       "      <td>CO</td>\n",
       "      <td>8</td>\n",
       "      <td>4560</td>\n",
       "      <td>5004.908217</td>\n",
       "    </tr>\n",
       "    <tr>\n",
       "      <th>2</th>\n",
       "      <td>CO</td>\n",
       "      <td>1</td>\n",
       "      <td>4480</td>\n",
       "      <td>4742.008300</td>\n",
       "    </tr>\n",
       "    <tr>\n",
       "      <th>3</th>\n",
       "      <td>CO</td>\n",
       "      <td>6</td>\n",
       "      <td>3082</td>\n",
       "      <td>4125.589583</td>\n",
       "    </tr>\n",
       "    <tr>\n",
       "      <th>4</th>\n",
       "      <td>CO</td>\n",
       "      <td>4</td>\n",
       "      <td>3590</td>\n",
       "      <td>4003.579650</td>\n",
       "    </tr>\n",
       "    <tr>\n",
       "      <th>5</th>\n",
       "      <td>CO</td>\n",
       "      <td>7</td>\n",
       "      <td>3446</td>\n",
       "      <td>3871.571550</td>\n",
       "    </tr>\n",
       "    <tr>\n",
       "      <th>6</th>\n",
       "      <td>CO</td>\n",
       "      <td>10</td>\n",
       "      <td>3049</td>\n",
       "      <td>3808.322417</td>\n",
       "    </tr>\n",
       "    <tr>\n",
       "      <th>7</th>\n",
       "      <td>CO</td>\n",
       "      <td>3</td>\n",
       "      <td>2890</td>\n",
       "      <td>3447.676717</td>\n",
       "    </tr>\n",
       "    <tr>\n",
       "      <th>8</th>\n",
       "      <td>CO</td>\n",
       "      <td>9</td>\n",
       "      <td>3148</td>\n",
       "      <td>3401.536200</td>\n",
       "    </tr>\n",
       "    <tr>\n",
       "      <th>9</th>\n",
       "      <td>CO</td>\n",
       "      <td>12</td>\n",
       "      <td>2188</td>\n",
       "      <td>3198.087300</td>\n",
       "    </tr>\n",
       "    <tr>\n",
       "      <th>10</th>\n",
       "      <td>CO</td>\n",
       "      <td>11</td>\n",
       "      <td>2202</td>\n",
       "      <td>2902.434817</td>\n",
       "    </tr>\n",
       "    <tr>\n",
       "      <th>11</th>\n",
       "      <td>CO</td>\n",
       "      <td>2</td>\n",
       "      <td>2162</td>\n",
       "      <td>2284.485050</td>\n",
       "    </tr>\n",
       "  </tbody>\n",
       "</table>\n",
       "</div>"
      ],
      "text/plain": [
       "   country  month_played  count          min\n",
       "0       CO             5   6029  5773.560783\n",
       "1       CO             8   4560  5004.908217\n",
       "2       CO             1   4480  4742.008300\n",
       "3       CO             6   3082  4125.589583\n",
       "4       CO             4   3590  4003.579650\n",
       "5       CO             7   3446  3871.571550\n",
       "6       CO            10   3049  3808.322417\n",
       "7       CO             3   2890  3447.676717\n",
       "8       CO             9   3148  3401.536200\n",
       "9       CO            12   2188  3198.087300\n",
       "10      CO            11   2202  2902.434817\n",
       "11      CO             2   2162  2284.485050"
      ]
     },
     "execution_count": 7,
     "metadata": {},
     "output_type": "execute_result"
    }
   ],
   "source": [
    "df_by_month.head(12)"
   ]
  },
  {
   "cell_type": "markdown",
   "id": "da68761b",
   "metadata": {},
   "source": [
    "## Agregación de registros por canción"
   ]
  },
  {
   "cell_type": "code",
   "execution_count": 8,
   "id": "3354b31f",
   "metadata": {},
   "outputs": [],
   "source": [
    "df_by_song = pd.pivot_table(\n",
    "   row_filtered_df,\n",
    "   index=[\"country\",\"song_name\", \"artist_name\"],\n",
    "   aggfunc={'min': np.sum, 'country': len}\n",
    ").rename(columns={'country': 'count'})\n",
    "df_by_song.sort_values(by=['min', 'count'],ascending=False, inplace=True)\n",
    "df_by_song.reset_index(inplace=True)"
   ]
  },
  {
   "cell_type": "code",
   "execution_count": 9,
   "id": "3cec3df2",
   "metadata": {},
   "outputs": [
    {
     "name": "stdout",
     "output_type": "stream",
     "text": [
      "<class 'pandas.core.frame.DataFrame'>\n",
      "RangeIndex: 11338 entries, 0 to 11337\n",
      "Data columns (total 5 columns):\n",
      " #   Column       Non-Null Count  Dtype  \n",
      "---  ------       --------------  -----  \n",
      " 0   country      11338 non-null  object \n",
      " 1   song_name    11338 non-null  object \n",
      " 2   artist_name  11338 non-null  object \n",
      " 3   count        11338 non-null  int64  \n",
      " 4   min          11338 non-null  float64\n",
      "dtypes: float64(1), int64(1), object(3)\n",
      "memory usage: 443.0+ KB\n"
     ]
    }
   ],
   "source": [
    "df_by_song.info()"
   ]
  },
  {
   "cell_type": "code",
   "execution_count": 10,
   "id": "a3798cbf",
   "metadata": {},
   "outputs": [],
   "source": [
    "df_by_song_month = pd.pivot_table(\n",
    "   row_filtered_df,\n",
    "   index=[\"country\",\"song_name\", \"artist_name\", \"month_played\"],\n",
    "   aggfunc={'min': np.sum, 'country': len}\n",
    ").rename(columns={'country': 'count'})\n",
    "df_by_song_month.sort_values(by=['min', 'count'],ascending=False, inplace=True)\n",
    "df_by_song_month.reset_index(inplace=True)"
   ]
  },
  {
   "cell_type": "code",
   "execution_count": 11,
   "id": "b5a5029f",
   "metadata": {},
   "outputs": [
    {
     "name": "stdout",
     "output_type": "stream",
     "text": [
      "<class 'pandas.core.frame.DataFrame'>\n",
      "RangeIndex: 21885 entries, 0 to 21884\n",
      "Data columns (total 6 columns):\n",
      " #   Column        Non-Null Count  Dtype  \n",
      "---  ------        --------------  -----  \n",
      " 0   country       21885 non-null  object \n",
      " 1   song_name     21885 non-null  object \n",
      " 2   artist_name   21885 non-null  object \n",
      " 3   month_played  21885 non-null  int64  \n",
      " 4   count         21885 non-null  int64  \n",
      " 5   min           21885 non-null  float64\n",
      "dtypes: float64(1), int64(2), object(3)\n",
      "memory usage: 1.0+ MB\n"
     ]
    }
   ],
   "source": [
    "df_by_song_month.info()"
   ]
  },
  {
   "cell_type": "markdown",
   "id": "9b63fe71",
   "metadata": {},
   "source": [
    "## Agregación de registros por artista"
   ]
  },
  {
   "cell_type": "code",
   "execution_count": 12,
   "id": "ad5b7620",
   "metadata": {},
   "outputs": [],
   "source": [
    "df_by_artist = pd.pivot_table(\n",
    "   row_filtered_df,\n",
    "   index=[\"country\", \"artist_name\"],\n",
    "   aggfunc={'min': np.sum, 'country': len}\n",
    ").rename(columns={'country': 'count'})\n",
    "df_by_artist.sort_values(by=['min', 'count'],ascending=False, inplace=True)\n",
    "df_by_artist.reset_index(inplace=True)"
   ]
  },
  {
   "cell_type": "code",
   "execution_count": 13,
   "id": "fc2b1c83",
   "metadata": {},
   "outputs": [
    {
     "name": "stdout",
     "output_type": "stream",
     "text": [
      "<class 'pandas.core.frame.DataFrame'>\n",
      "RangeIndex: 4118 entries, 0 to 4117\n",
      "Data columns (total 4 columns):\n",
      " #   Column       Non-Null Count  Dtype  \n",
      "---  ------       --------------  -----  \n",
      " 0   country      4118 non-null   object \n",
      " 1   artist_name  4118 non-null   object \n",
      " 2   count        4118 non-null   int64  \n",
      " 3   min          4118 non-null   float64\n",
      "dtypes: float64(1), int64(1), object(2)\n",
      "memory usage: 128.8+ KB\n"
     ]
    }
   ],
   "source": [
    "df_by_artist.info()"
   ]
  },
  {
   "cell_type": "code",
   "execution_count": 14,
   "id": "cdd88e24",
   "metadata": {},
   "outputs": [],
   "source": [
    "df_by_artist_month = pd.pivot_table(\n",
    "   row_filtered_df,\n",
    "   index=[\"country\", \"artist_name\",\"month_played\"],\n",
    "   aggfunc={'min': np.sum, 'country': len}\n",
    ").rename(columns={'country': 'count'})\n",
    "df_by_artist_month.sort_values(by=['min', 'count'],ascending=False, inplace=True)\n",
    "df_by_artist_month.reset_index(inplace=True)"
   ]
  },
  {
   "cell_type": "code",
   "execution_count": 15,
   "id": "bbeff26d",
   "metadata": {},
   "outputs": [
    {
     "name": "stdout",
     "output_type": "stream",
     "text": [
      "<class 'pandas.core.frame.DataFrame'>\n",
      "RangeIndex: 10330 entries, 0 to 10329\n",
      "Data columns (total 5 columns):\n",
      " #   Column        Non-Null Count  Dtype  \n",
      "---  ------        --------------  -----  \n",
      " 0   country       10330 non-null  object \n",
      " 1   artist_name   10330 non-null  object \n",
      " 2   month_played  10330 non-null  int64  \n",
      " 3   count         10330 non-null  int64  \n",
      " 4   min           10330 non-null  float64\n",
      "dtypes: float64(1), int64(2), object(2)\n",
      "memory usage: 403.6+ KB\n"
     ]
    }
   ],
   "source": [
    "df_by_artist_month.info()"
   ]
  },
  {
   "cell_type": "code",
   "execution_count": 18,
   "id": "e6bf4f0e",
   "metadata": {},
   "outputs": [
    {
     "name": "stdout",
     "output_type": "stream",
     "text": [
      "Collecting spotipy\n",
      "  Downloading spotipy-2.24.0-py3-none-any.whl (30 kB)\n",
      "Requirement already satisfied: requests>=2.25.0 in c:\\users\\pipe\\anaconda3\\lib\\site-packages (from spotipy) (2.28.1)\n",
      "Collecting redis>=3.5.3\n",
      "  Downloading redis-5.0.6-py3-none-any.whl (252 kB)\n",
      "     -------------------------------------- 252.0/252.0 kB 2.2 MB/s eta 0:00:00\n",
      "Requirement already satisfied: urllib3>=1.26.0 in c:\\users\\pipe\\anaconda3\\lib\\site-packages (from spotipy) (1.26.11)\n",
      "Collecting async-timeout>=4.0.3\n",
      "  Downloading async_timeout-4.0.3-py3-none-any.whl (5.7 kB)\n",
      "Requirement already satisfied: certifi>=2017.4.17 in c:\\users\\pipe\\anaconda3\\lib\\site-packages (from requests>=2.25.0->spotipy) (2022.9.14)\n",
      "Requirement already satisfied: charset-normalizer<3,>=2 in c:\\users\\pipe\\anaconda3\\lib\\site-packages (from requests>=2.25.0->spotipy) (2.0.4)\n",
      "Requirement already satisfied: idna<4,>=2.5 in c:\\users\\pipe\\anaconda3\\lib\\site-packages (from requests>=2.25.0->spotipy) (3.3)\n",
      "Installing collected packages: async-timeout, redis, spotipy\n",
      "Successfully installed async-timeout-4.0.3 redis-5.0.6 spotipy-2.24.0\n"
     ]
    }
   ],
   "source": [
    "import sys\n",
    "!{sys.executable} -m pip install spotipy"
   ]
  },
  {
   "cell_type": "code",
   "execution_count": 47,
   "id": "549fe06a",
   "metadata": {},
   "outputs": [],
   "source": [
    "import spotipy\n",
    "from spotipy.oauth2 import SpotifyClientCredentials\n",
    "client_id = \"\"\n",
    "client_secret = \"\"\n",
    "auth_manager = SpotifyClientCredentials(client_id=client_id,client_secret=client_secret)\n",
    "sp = spotipy.Spotify(auth_manager=auth_manager)\n",
    "\n",
    "def get_track_complementaries(track_uri:str):\n",
    "    track = sp.track(track_uri)\n",
    "    artist_uri = None\n",
    "    artists = track.get(\"artists\")\n",
    "    if artists:\n",
    "        artist_uri = artists[0].get(\"uri\")\n",
    "    popularity = track.get(\"popularity\")\n",
    "    release_date = track.get(\"album.release_date\")\n",
    "    release_precision = track.get(\"album.release_date_precision\")\n",
    "    return (artist_uri,popularity,release_date,release_precision)\n",
    "\n",
    "def get_artist_complementaries(artist_uri:str):\n",
    "    artist = sp.artist(artist_uri)\n",
    "    genre = None\n",
    "    genres = artist.get(\"genres\")\n",
    "    if genres:\n",
    "        genre = genres[0]\n",
    "    popularity = artist.get(\"popularity\")\n",
    "    return (genre, popularity)\n",
    "\n",
    "def get_complementaries(track_uri:str):\n",
    "    artist_uri, track_pop, rel_date, rel_date_precision = get_track_complementaries(track_uri)\n",
    "    genre, artist_pop = get_artist_complementaries(artist_uri)\n",
    "    return (genre, rel_date, track_pop, artist_pop)"
   ]
  },
  {
   "cell_type": "code",
   "execution_count": 50,
   "id": "d55524fc",
   "metadata": {},
   "outputs": [
    {
     "name": "stdout",
     "output_type": "stream",
     "text": [
      "mexican hip hop\n"
     ]
    }
   ],
   "source": [
    "genre, rel_date, track_pop, artist_pop = get_complementaries(\"spotify:track:5w5TXv6P9WNf1bnlu7nbqK\")\n",
    "print(genre)\n",
    "print(rel_date)"
   ]
  }
 ],
 "metadata": {
  "kernelspec": {
   "display_name": "Python 3 (ipykernel)",
   "language": "python",
   "name": "python3"
  },
  "language_info": {
   "codemirror_mode": {
    "name": "ipython",
    "version": 3
   },
   "file_extension": ".py",
   "mimetype": "text/x-python",
   "name": "python",
   "nbconvert_exporter": "python",
   "pygments_lexer": "ipython3",
   "version": "3.9.13"
  }
 },
 "nbformat": 4,
 "nbformat_minor": 5
}
