{
 "cells": [
  {
   "cell_type": "markdown",
   "id": "86b03b1e",
   "metadata": {},
   "source": [
    "# Procesamiento de datos de Spotify\n",
    "En este notebook se realizará la consulta y procesamiento de los datos que serán utilizados para el proyecto de \"rediseño campaña Spotify Wrapped\""
   ]
  },
  {
   "cell_type": "code",
   "execution_count": 1,
   "id": "df659bcd",
   "metadata": {},
   "outputs": [],
   "source": [
    "import glob\n",
    "import pandas as pd\n",
    "import numpy as np\n",
    "import time"
   ]
  },
  {
   "cell_type": "markdown",
   "id": "484ddad0",
   "metadata": {},
   "source": [
    "## Recolección de datos de la primera fuente: Historial de reproducciones extendido\n",
    "En este caso, los datos del historial de reproducciones extendido son enviados por spotify en una serie de archivos de tipo json, se han seleccionado exclusivamente los archivos con datos del 2023"
   ]
  },
  {
   "cell_type": "code",
   "execution_count": 2,
   "id": "ddc12b51",
   "metadata": {},
   "outputs": [],
   "source": [
    "path = \"user_streaming_history\"\n",
    "csv_files = glob.glob(path + \"/*.json\")\n",
    "df_list = (pd.read_json(file) for file in csv_files)\n",
    "big_df   = pd.concat(df_list, ignore_index=True)"
   ]
  },
  {
   "cell_type": "code",
   "execution_count": 3,
   "id": "ed4061eb",
   "metadata": {},
   "outputs": [
    {
     "name": "stdout",
     "output_type": "stream",
     "text": [
      "<class 'pandas.core.frame.DataFrame'>\n",
      "RangeIndex: 51189 entries, 0 to 51188\n",
      "Data columns (total 21 columns):\n",
      " #   Column                             Non-Null Count  Dtype \n",
      "---  ------                             --------------  ----- \n",
      " 0   ts                                 51189 non-null  object\n",
      " 1   username                           51189 non-null  object\n",
      " 2   platform                           51189 non-null  object\n",
      " 3   ms_played                          51189 non-null  int64 \n",
      " 4   conn_country                       51189 non-null  object\n",
      " 5   ip_addr_decrypted                  51189 non-null  object\n",
      " 6   user_agent_decrypted               51189 non-null  object\n",
      " 7   master_metadata_track_name         51186 non-null  object\n",
      " 8   master_metadata_album_artist_name  51186 non-null  object\n",
      " 9   master_metadata_album_album_name   51186 non-null  object\n",
      " 10  spotify_track_uri                  51186 non-null  object\n",
      " 11  episode_name                       3 non-null      object\n",
      " 12  episode_show_name                  3 non-null      object\n",
      " 13  spotify_episode_uri                3 non-null      object\n",
      " 14  reason_start                       51189 non-null  object\n",
      " 15  reason_end                         51189 non-null  object\n",
      " 16  shuffle                            51189 non-null  bool  \n",
      " 17  skipped                            51189 non-null  bool  \n",
      " 18  offline                            51189 non-null  bool  \n",
      " 19  offline_timestamp                  51189 non-null  int64 \n",
      " 20  incognito_mode                     51189 non-null  bool  \n",
      "dtypes: bool(4), int64(2), object(15)\n",
      "memory usage: 6.8+ MB\n"
     ]
    }
   ],
   "source": [
    "big_df.info()"
   ]
  },
  {
   "cell_type": "markdown",
   "id": "f0c776fd",
   "metadata": {},
   "source": [
    "Al utilizar un DataFrame para representar los datos contenidos dentro de los archivos, se identifica que se cuenta inicialmente con <b>51189 registros</b>, <b>21 campos</b> en los que en algunos casos contamos con valores nulos y que la magnitud de los datos es cercana a los <b>6.8MB</b>"
   ]
  },
  {
   "cell_type": "markdown",
   "id": "9723f94f",
   "metadata": {},
   "source": [
    "### Transformación de datos\n",
    "Se identifican los campos ts (timestamp) y ms_played los cuales serán transformados para:\n",
    "* A partir del timestamp obtener año y mes de reproducción\n",
    "* Transformar los milisegundos de reproducción a minutos de reproducción\n",
    "\n",
    "Adicionalmente, se renombran algunas campos para facilidad en su entendimiento"
   ]
  },
  {
   "cell_type": "code",
   "execution_count": 4,
   "id": "a6df5642",
   "metadata": {},
   "outputs": [],
   "source": [
    "big_df[[\"ts\"]] = big_df[[\"ts\"]].apply(pd.to_datetime)\n",
    "big_df[\"year_played\"] = big_df[\"ts\"].dt.year\n",
    "big_df[\"month_played\"] = big_df[\"ts\"].dt.month\n",
    "big_df[\"min\"] = big_df[\"ms_played\"]/60000\n",
    "big_df=big_df.rename(columns={\"ts\": \"timestamp\", \"conn_country\": \"country\", \"master_metadata_track_name\": \"song_name\", \"master_metadata_album_artist_name\": \"artist_name\", \"spotify_track_uri\":\"track_uri\"})"
   ]
  },
  {
   "cell_type": "markdown",
   "id": "43479a11",
   "metadata": {},
   "source": [
    "### Limpieza de datos\n",
    "Se inicia eliminando los campos (columnas) que no se pretende utilizar, como por ejemplo los campos relacionados a episodios o la ip, posterior a esto se eliminan los registros con campos vacios y finalmente se filtran dentro de los registros resultantes aquellos del año 2023 cuyo tiempo de reproducción fue superior a los 30 segundos"
   ]
  },
  {
   "cell_type": "code",
   "execution_count": 6,
   "id": "2a85d68c",
   "metadata": {},
   "outputs": [],
   "source": [
    "column_filtered_df = big_df[[\"timestamp\",\"year_played\",\"month_played\",\"min\",\"country\", \"song_name\", \"artist_name\",\"track_uri\"]]\n",
    "row_filtered_df = column_filtered_df.dropna()\n",
    "row_filtered_df = row_filtered_df.loc[row_filtered_df[\"year_played\"]==2023]\n",
    "row_filtered_df = row_filtered_df.loc[row_filtered_df[\"min\"]>(30/60)]"
   ]
  },
  {
   "cell_type": "code",
   "execution_count": 7,
   "id": "39c4bda2",
   "metadata": {},
   "outputs": [
    {
     "name": "stdout",
     "output_type": "stream",
     "text": [
      "<class 'pandas.core.frame.DataFrame'>\n",
      "Int64Index: 16294 entries, 2448 to 51188\n",
      "Data columns (total 8 columns):\n",
      " #   Column        Non-Null Count  Dtype              \n",
      "---  ------        --------------  -----              \n",
      " 0   timestamp     16294 non-null  datetime64[ns, UTC]\n",
      " 1   year_played   16294 non-null  int64              \n",
      " 2   month_played  16294 non-null  int64              \n",
      " 3   min           16294 non-null  float64            \n",
      " 4   country       16294 non-null  object             \n",
      " 5   song_name     16294 non-null  object             \n",
      " 6   artist_name   16294 non-null  object             \n",
      " 7   track_uri     16294 non-null  object             \n",
      "dtypes: datetime64[ns, UTC](1), float64(1), int64(2), object(4)\n",
      "memory usage: 1.1+ MB\n"
     ]
    }
   ],
   "source": [
    "row_filtered_df.info()"
   ]
  },
  {
   "cell_type": "markdown",
   "id": "bf9f0cbb",
   "metadata": {},
   "source": [
    "Se identifica que posterior a los procesos de limpieza y transformación, se tienen <b>16294 registros</b>, <b>8 campos</b> (sin valores vacios) y una magnitud cercana a los <b>1.1MB</b>"
   ]
  },
  {
   "cell_type": "markdown",
   "id": "f9e96d20",
   "metadata": {},
   "source": [
    "## Recolección de datos de la segunda fuente: Spotify API\n",
    "Los datos recolectados desde el API de Spotify serán utilizados para complementar los datos del historial"
   ]
  },
  {
   "cell_type": "markdown",
   "id": "5ecde4fa",
   "metadata": {},
   "source": [
    "### Importar la libreria spotipy\n",
    "La libreria spotipy simplifica la comunicación con el API de Spotify"
   ]
  },
  {
   "cell_type": "code",
   "execution_count": 8,
   "id": "13577cdd",
   "metadata": {},
   "outputs": [
    {
     "name": "stdout",
     "output_type": "stream",
     "text": [
      "Requirement already satisfied: spotipy in c:\\users\\pipe\\anaconda3\\lib\\site-packages (2.24.0)\n",
      "Requirement already satisfied: urllib3>=1.26.0 in c:\\users\\pipe\\anaconda3\\lib\\site-packages (from spotipy) (1.26.11)\n",
      "Requirement already satisfied: requests>=2.25.0 in c:\\users\\pipe\\anaconda3\\lib\\site-packages (from spotipy) (2.28.1)\n",
      "Requirement already satisfied: redis>=3.5.3 in c:\\users\\pipe\\anaconda3\\lib\\site-packages (from spotipy) (5.0.6)\n",
      "Requirement already satisfied: async-timeout>=4.0.3 in c:\\users\\pipe\\anaconda3\\lib\\site-packages (from redis>=3.5.3->spotipy) (4.0.3)\n",
      "Requirement already satisfied: certifi>=2017.4.17 in c:\\users\\pipe\\anaconda3\\lib\\site-packages (from requests>=2.25.0->spotipy) (2022.9.14)\n",
      "Requirement already satisfied: charset-normalizer<3,>=2 in c:\\users\\pipe\\anaconda3\\lib\\site-packages (from requests>=2.25.0->spotipy) (2.0.4)\n",
      "Requirement already satisfied: idna<4,>=2.5 in c:\\users\\pipe\\anaconda3\\lib\\site-packages (from requests>=2.25.0->spotipy) (3.3)\n"
     ]
    }
   ],
   "source": [
    "import sys\n",
    "!{sys.executable} -m pip install spotipy"
   ]
  },
  {
   "cell_type": "code",
   "execution_count": 9,
   "id": "0eabc0db",
   "metadata": {},
   "outputs": [],
   "source": [
    "import spotipy\n",
    "from spotipy.oauth2 import SpotifyClientCredentials\n",
    "client_id = \"\"\n",
    "client_secret = \"\"\n",
    "auth_manager = SpotifyClientCredentials(client_id=client_id,client_secret=client_secret)\n",
    "sp = spotipy.Spotify(auth_manager=auth_manager)"
   ]
  },
  {
   "cell_type": "markdown",
   "id": "61fe298a",
   "metadata": {},
   "source": [
    "### Funciones para obtener datos complementarios\n",
    "Los datos que se obtendrán serán los siguientes:\n",
    "* Año de publicación de la canción (del álbum de la canción), para ello es necesario transformar el campo que viene desde el API, puesto que allí puede venir en formato AAAA, AAAA-MM o AAAA-MM-DD\n",
    "* Popularidad de canción, es una escala que indica si la canción es popular (100) o desconocida (0)\n",
    "* Género musical, es una categoria en la que puede clasificar la canción, desde el API se obtiene como una lista opcional, para este caso se tomará exclusivamente el primer género de la lista\n",
    "* Popularidad del artista, es una escala que indica si el artista es popular (100) o desconocido (0)\n",
    "\n",
    "Los datos se obtienen de dos consultas, la consulta de <b>pistas</b> (canciones) y la consulta de <b>artistas</b>, para optimizar la consulta se utilizarán los métodos que permiten consultas multiples, en donde se realizarán consultas de hasta 30 pistas/artistas en simultaneo (aunque bien la capacidad máxima de los métodos es de 50), la consulta de artistas se hará posterior a la de las pistas para poder obtener el conjunto de artistas asociados a las pistas y no realizar consultas duplicadas"
   ]
  },
  {
   "cell_type": "code",
   "execution_count": 10,
   "id": "62aab4de",
   "metadata": {},
   "outputs": [],
   "source": [
    "def get_tracks_complementary_info(tracks_uris):\n",
    "    tracks_df = pd.DataFrame(columns = [\"track_uri\",\"artist_uri\",\"year\",\"track_pop\"])\n",
    "    tracks_uris_chunks = [tracks_uris[x:x+30] for x in range(0, len(tracks_uris), 30)]\n",
    "    for tracks_uris_chunk in tracks_uris_chunks:\n",
    "        tracks = sp.tracks(tracks_uris_chunk)\n",
    "        for track in tracks.get(\"tracks\"):\n",
    "            track_uri = track.get(\"uri\")\n",
    "            artist_uri = None\n",
    "            artists = track.get(\"artists\")\n",
    "            if artists:\n",
    "                artist_uri = artists[0].get(\"uri\")\n",
    "            popularity = track.get(\"popularity\")\n",
    "            album = track.get(\"album\")\n",
    "            release_date = album.get(\"release_date\")\n",
    "            year = release_date[0:4] if release_date else None\n",
    "            tracks_df = pd.concat([tracks_df, pd.Series({\"track_uri\":track_uri,\"artist_uri\":artist_uri,\"year\":year,\"track_pop\":popularity}).to_frame().T], ignore_index=True)\n",
    "    return tracks_df\n",
    "\n",
    "def get_artists_complementary_info(artist_uris):\n",
    "    artists_df = pd.DataFrame(columns = [\"artist_uri\",\"genre\",\"artist_pop\"])\n",
    "    artists_uris_chunks = [artist_uris[x:x+30] for x in range(0, len(artist_uris), 30)]\n",
    "    for artists_uris_chunk in artists_uris_chunks:\n",
    "        artists = sp.artists(artists_uris_chunk)\n",
    "        for artist in artists.get(\"artists\"):\n",
    "            artist_uri = artist.get(\"uri\")\n",
    "            genres = artist.get(\"genres\")\n",
    "            genre = genres[0] if genres else None\n",
    "            popularity = artist.get(\"popularity\")\n",
    "            artists_df = pd.concat([artists_df, pd.Series({\"artist_uri\":artist_uri,\"genre\":genre,\"artist_pop\":popularity}).to_frame().T], ignore_index=True)\n",
    "    return artists_df\n",
    "\n",
    "def get_complementaries(tracks_uris):\n",
    "    tracks_df = get_tracks_complementary_info(tracks_uris)\n",
    "    artist_uris = tracks_df[\"artist_uri\"].unique()\n",
    "    artists_df = get_artists_complementary_info(artist_uris)\n",
    "    result = pd.merge(tracks_df, artists_df, on=\"artist_uri\")\n",
    "    return result"
   ]
  },
  {
   "cell_type": "markdown",
   "id": "5e2550a9",
   "metadata": {},
   "source": [
    "### Listado de canciones\n",
    "Se requiere obtener el listado unico de canciones, puesto que el dataframe actual contiene el listado de reproducciones y en general una canción puede tener varias reproducciones asociadas"
   ]
  },
  {
   "cell_type": "code",
   "execution_count": 11,
   "id": "3966079b",
   "metadata": {},
   "outputs": [],
   "source": [
    "track_uri_list = row_filtered_df[\"track_uri\"].unique()"
   ]
  },
  {
   "cell_type": "markdown",
   "id": "1da6067c",
   "metadata": {},
   "source": [
    "### Obtención de datos complementarios\n",
    "A partir del listado unico de URIs se procede a invocar las funciones previamente definidas para generar los registros con los datos complementarios, adicionalmente se toma el tiempo que tarda la función para obtener todos los datos complementarios"
   ]
  },
  {
   "cell_type": "code",
   "execution_count": 12,
   "id": "dd1a9372",
   "metadata": {},
   "outputs": [
    {
     "name": "stdout",
     "output_type": "stream",
     "text": [
      "segundos requeridos para la obtención de datos complementarios: 87.77163338661194\n"
     ]
    }
   ],
   "source": [
    "start = time.time()\n",
    "complementaries_df = get_complementaries(track_uri_list)\n",
    "end = time.time()\n",
    "print(\"segundos requeridos para la obtención de datos complementarios: \"+str(end-start))"
   ]
  },
  {
   "cell_type": "code",
   "execution_count": 19,
   "id": "2e9c6f8b",
   "metadata": {},
   "outputs": [
    {
     "name": "stdout",
     "output_type": "stream",
     "text": [
      "<class 'pandas.core.frame.DataFrame'>\n",
      "Int64Index: 5308 entries, 0 to 5307\n",
      "Data columns (total 6 columns):\n",
      " #   Column      Non-Null Count  Dtype \n",
      "---  ------      --------------  ----- \n",
      " 0   track_uri   5308 non-null   object\n",
      " 1   artist_uri  5308 non-null   object\n",
      " 2   year        5308 non-null   object\n",
      " 3   track_pop   5308 non-null   object\n",
      " 4   genre       5027 non-null   object\n",
      " 5   artist_pop  5308 non-null   object\n",
      "dtypes: object(6)\n",
      "memory usage: 290.3+ KB\n"
     ]
    }
   ],
   "source": [
    "complementaries_df.info()"
   ]
  },
  {
   "cell_type": "markdown",
   "id": "e1b34437",
   "metadata": {},
   "source": [
    "Se identifica que para el caso de los datos complementarios obtenidos, se tienen <b>5308 registros</b>, <b>6 campos</b> (el campo \"genero\" con valores vacios) y una magnitud cercana a los <b>290.3KB</b>"
   ]
  },
  {
   "cell_type": "markdown",
   "id": "7fdf6869",
   "metadata": {},
   "source": [
    "### Manejo para valores vacios\n",
    "en este caso, los valores vacios serán completados con el valor \"desconocido\""
   ]
  },
  {
   "cell_type": "code",
   "execution_count": 20,
   "id": "0333d7d6",
   "metadata": {},
   "outputs": [],
   "source": [
    "complementaries_df[\"genre\"]=complementaries_df[\"genre\"].fillna(value=\"desconocido\")"
   ]
  },
  {
   "cell_type": "markdown",
   "id": "83a5c2b4",
   "metadata": {},
   "source": [
    "## Unificación de datos\n",
    "Se \"combinarán\" los datos provenientes de las dos fuentes"
   ]
  },
  {
   "cell_type": "code",
   "execution_count": 22,
   "id": "18439893",
   "metadata": {},
   "outputs": [],
   "source": [
    "base_stream_data_df = pd.merge(row_filtered_df,complementaries_df[[\"track_uri\",\"year\",\"track_pop\",\"genre\",\"artist_pop\"]], on=\"track_uri\")"
   ]
  },
  {
   "cell_type": "code",
   "execution_count": 23,
   "id": "4c39896f",
   "metadata": {},
   "outputs": [
    {
     "name": "stdout",
     "output_type": "stream",
     "text": [
      "<class 'pandas.core.frame.DataFrame'>\n",
      "Int64Index: 16294 entries, 0 to 16293\n",
      "Data columns (total 12 columns):\n",
      " #   Column        Non-Null Count  Dtype              \n",
      "---  ------        --------------  -----              \n",
      " 0   timestamp     16294 non-null  datetime64[ns, UTC]\n",
      " 1   year_played   16294 non-null  int64              \n",
      " 2   month_played  16294 non-null  int64              \n",
      " 3   min           16294 non-null  float64            \n",
      " 4   country       16294 non-null  object             \n",
      " 5   song_name     16294 non-null  object             \n",
      " 6   artist_name   16294 non-null  object             \n",
      " 7   track_uri     16294 non-null  object             \n",
      " 8   year          16294 non-null  object             \n",
      " 9   track_pop     16294 non-null  object             \n",
      " 10  genre         16294 non-null  object             \n",
      " 11  artist_pop    16294 non-null  object             \n",
      "dtypes: datetime64[ns, UTC](1), float64(1), int64(2), object(8)\n",
      "memory usage: 1.6+ MB\n"
     ]
    }
   ],
   "source": [
    "base_stream_data_df.info()"
   ]
  },
  {
   "cell_type": "markdown",
   "id": "41676240",
   "metadata": {},
   "source": [
    "Finalmente, se trabajará con <b>16294 registros</b>, <b>12 campos</b> (sin valores vacios) y una magnitud cercana a los <b>1.6MB</b>"
   ]
  },
  {
   "cell_type": "markdown",
   "id": "f456be7b",
   "metadata": {},
   "source": [
    "## Agregación de registros por canción"
   ]
  },
  {
   "cell_type": "code",
   "execution_count": 25,
   "id": "7cfa4706",
   "metadata": {},
   "outputs": [],
   "source": [
    "df_by_song = pd.pivot_table(\n",
    "   base_stream_data_df,\n",
    "   index=[\"country\", \"genre\"],\n",
    "   aggfunc={'min': np.sum, 'country': len}\n",
    ").rename(columns={'country': 'count'})\n",
    "df_by_song.sort_values(by=['min', 'count'],ascending=False, inplace=True)\n",
    "df_by_song.reset_index(inplace=True)"
   ]
  },
  {
   "cell_type": "code",
   "execution_count": 28,
   "id": "2662c0b5",
   "metadata": {},
   "outputs": [
    {
     "data": {
      "text/html": [
       "<div>\n",
       "<style scoped>\n",
       "    .dataframe tbody tr th:only-of-type {\n",
       "        vertical-align: middle;\n",
       "    }\n",
       "\n",
       "    .dataframe tbody tr th {\n",
       "        vertical-align: top;\n",
       "    }\n",
       "\n",
       "    .dataframe thead th {\n",
       "        text-align: right;\n",
       "    }\n",
       "</style>\n",
       "<table border=\"1\" class=\"dataframe\">\n",
       "  <thead>\n",
       "    <tr style=\"text-align: right;\">\n",
       "      <th></th>\n",
       "      <th>country</th>\n",
       "      <th>genre</th>\n",
       "      <th>count</th>\n",
       "      <th>min</th>\n",
       "    </tr>\n",
       "  </thead>\n",
       "  <tbody>\n",
       "    <tr>\n",
       "      <th>0</th>\n",
       "      <td>CO</td>\n",
       "      <td>argentine rock</td>\n",
       "      <td>2098</td>\n",
       "      <td>6780.075767</td>\n",
       "    </tr>\n",
       "    <tr>\n",
       "      <th>1</th>\n",
       "      <td>CO</td>\n",
       "      <td>colombian hip hop</td>\n",
       "      <td>1145</td>\n",
       "      <td>2987.979100</td>\n",
       "    </tr>\n",
       "    <tr>\n",
       "      <th>2</th>\n",
       "      <td>CO</td>\n",
       "      <td>desconocido</td>\n",
       "      <td>667</td>\n",
       "      <td>1493.632700</td>\n",
       "    </tr>\n",
       "    <tr>\n",
       "      <th>3</th>\n",
       "      <td>CO</td>\n",
       "      <td>conscious hip hop</td>\n",
       "      <td>397</td>\n",
       "      <td>1244.160367</td>\n",
       "    </tr>\n",
       "    <tr>\n",
       "      <th>4</th>\n",
       "      <td>CO</td>\n",
       "      <td>flamenco urbano</td>\n",
       "      <td>462</td>\n",
       "      <td>1221.466933</td>\n",
       "    </tr>\n",
       "    <tr>\n",
       "      <th>5</th>\n",
       "      <td>CO</td>\n",
       "      <td>reggaeton</td>\n",
       "      <td>356</td>\n",
       "      <td>1018.314150</td>\n",
       "    </tr>\n",
       "    <tr>\n",
       "      <th>6</th>\n",
       "      <td>CO</td>\n",
       "      <td>boom bap espanol</td>\n",
       "      <td>320</td>\n",
       "      <td>984.570717</td>\n",
       "    </tr>\n",
       "    <tr>\n",
       "      <th>7</th>\n",
       "      <td>CO</td>\n",
       "      <td>colombian pop</td>\n",
       "      <td>386</td>\n",
       "      <td>982.592933</td>\n",
       "    </tr>\n",
       "    <tr>\n",
       "      <th>8</th>\n",
       "      <td>CO</td>\n",
       "      <td>latin alternative</td>\n",
       "      <td>327</td>\n",
       "      <td>981.623550</td>\n",
       "    </tr>\n",
       "    <tr>\n",
       "      <th>9</th>\n",
       "      <td>CO</td>\n",
       "      <td>alternative metal</td>\n",
       "      <td>315</td>\n",
       "      <td>966.167217</td>\n",
       "    </tr>\n",
       "    <tr>\n",
       "      <th>10</th>\n",
       "      <td>CO</td>\n",
       "      <td>urbano espanol</td>\n",
       "      <td>309</td>\n",
       "      <td>846.450733</td>\n",
       "    </tr>\n",
       "    <tr>\n",
       "      <th>11</th>\n",
       "      <td>CO</td>\n",
       "      <td>colombian rock</td>\n",
       "      <td>295</td>\n",
       "      <td>718.476317</td>\n",
       "    </tr>\n",
       "    <tr>\n",
       "      <th>12</th>\n",
       "      <td>CO</td>\n",
       "      <td>east coast hip hop</td>\n",
       "      <td>221</td>\n",
       "      <td>702.557000</td>\n",
       "    </tr>\n",
       "    <tr>\n",
       "      <th>13</th>\n",
       "      <td>CO</td>\n",
       "      <td>alternative rock</td>\n",
       "      <td>235</td>\n",
       "      <td>628.466050</td>\n",
       "    </tr>\n",
       "    <tr>\n",
       "      <th>14</th>\n",
       "      <td>CO</td>\n",
       "      <td>salsa</td>\n",
       "      <td>166</td>\n",
       "      <td>606.554883</td>\n",
       "    </tr>\n",
       "    <tr>\n",
       "      <th>15</th>\n",
       "      <td>CO</td>\n",
       "      <td>argentine reggae</td>\n",
       "      <td>170</td>\n",
       "      <td>511.872600</td>\n",
       "    </tr>\n",
       "    <tr>\n",
       "      <th>16</th>\n",
       "      <td>CO</td>\n",
       "      <td>g funk</td>\n",
       "      <td>149</td>\n",
       "      <td>501.450183</td>\n",
       "    </tr>\n",
       "    <tr>\n",
       "      <th>17</th>\n",
       "      <td>CO</td>\n",
       "      <td>album rock</td>\n",
       "      <td>154</td>\n",
       "      <td>473.090433</td>\n",
       "    </tr>\n",
       "    <tr>\n",
       "      <th>18</th>\n",
       "      <td>CO</td>\n",
       "      <td>pop reggaeton</td>\n",
       "      <td>163</td>\n",
       "      <td>458.896117</td>\n",
       "    </tr>\n",
       "    <tr>\n",
       "      <th>19</th>\n",
       "      <td>CO</td>\n",
       "      <td>trap latino</td>\n",
       "      <td>165</td>\n",
       "      <td>440.727533</td>\n",
       "    </tr>\n",
       "  </tbody>\n",
       "</table>\n",
       "</div>"
      ],
      "text/plain": [
       "   country               genre  count          min\n",
       "0       CO      argentine rock   2098  6780.075767\n",
       "1       CO   colombian hip hop   1145  2987.979100\n",
       "2       CO         desconocido    667  1493.632700\n",
       "3       CO   conscious hip hop    397  1244.160367\n",
       "4       CO     flamenco urbano    462  1221.466933\n",
       "5       CO           reggaeton    356  1018.314150\n",
       "6       CO    boom bap espanol    320   984.570717\n",
       "7       CO       colombian pop    386   982.592933\n",
       "8       CO   latin alternative    327   981.623550\n",
       "9       CO   alternative metal    315   966.167217\n",
       "10      CO      urbano espanol    309   846.450733\n",
       "11      CO      colombian rock    295   718.476317\n",
       "12      CO  east coast hip hop    221   702.557000\n",
       "13      CO    alternative rock    235   628.466050\n",
       "14      CO               salsa    166   606.554883\n",
       "15      CO    argentine reggae    170   511.872600\n",
       "16      CO              g funk    149   501.450183\n",
       "17      CO          album rock    154   473.090433\n",
       "18      CO       pop reggaeton    163   458.896117\n",
       "19      CO         trap latino    165   440.727533"
      ]
     },
     "execution_count": 28,
     "metadata": {},
     "output_type": "execute_result"
    }
   ],
   "source": [
    "df_by_song.head(20)"
   ]
  },
  {
   "cell_type": "code",
   "execution_count": null,
   "id": "6a734fe0",
   "metadata": {},
   "outputs": [],
   "source": [
    "base_stream_data_df.info()"
   ]
  }
 ],
 "metadata": {
  "kernelspec": {
   "display_name": "Python 3 (ipykernel)",
   "language": "python",
   "name": "python3"
  },
  "language_info": {
   "codemirror_mode": {
    "name": "ipython",
    "version": 3
   },
   "file_extension": ".py",
   "mimetype": "text/x-python",
   "name": "python",
   "nbconvert_exporter": "python",
   "pygments_lexer": "ipython3",
   "version": "3.9.13"
  }
 },
 "nbformat": 4,
 "nbformat_minor": 5
}
