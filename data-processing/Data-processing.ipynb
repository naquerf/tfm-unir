{
 "cells": [
  {
   "cell_type": "markdown",
   "id": "f95f34e6",
   "metadata": {},
   "source": [
    "# Procesamiento de datos de spotify\n",
    "En este notebook se realizará la consulta y procesamiento de los datos que serán utilizados para el proyecto"
   ]
  },
  {
   "cell_type": "code",
   "execution_count": 1,
   "id": "33a18c0d",
   "metadata": {},
   "outputs": [],
   "source": [
    "import glob\n",
    "import pandas as pd\n",
    "import numpy as np"
   ]
  },
  {
   "cell_type": "code",
   "execution_count": 2,
   "id": "88fd0df9",
   "metadata": {},
   "outputs": [],
   "source": [
    "path = \"user_streaming_history\"\n",
    "csv_files = glob.glob(path + \"/*.json\")\n",
    "\n",
    "# Read each CSV file into DataFrame\n",
    "# This creates a list of dataframes\n",
    "df_list = (pd.read_json(file) for file in csv_files)\n",
    "\n",
    "# Concatenate all DataFrames\n",
    "big_df   = pd.concat(df_list, ignore_index=True)"
   ]
  },
  {
   "cell_type": "code",
   "execution_count": 3,
   "id": "140e638b",
   "metadata": {},
   "outputs": [
    {
     "name": "stdout",
     "output_type": "stream",
     "text": [
      "<class 'pandas.core.frame.DataFrame'>\n",
      "RangeIndex: 51189 entries, 0 to 51188\n",
      "Data columns (total 21 columns):\n",
      " #   Column                             Non-Null Count  Dtype \n",
      "---  ------                             --------------  ----- \n",
      " 0   ts                                 51189 non-null  object\n",
      " 1   username                           51189 non-null  object\n",
      " 2   platform                           51189 non-null  object\n",
      " 3   ms_played                          51189 non-null  int64 \n",
      " 4   conn_country                       51189 non-null  object\n",
      " 5   ip_addr_decrypted                  51189 non-null  object\n",
      " 6   user_agent_decrypted               51189 non-null  object\n",
      " 7   master_metadata_track_name         51186 non-null  object\n",
      " 8   master_metadata_album_artist_name  51186 non-null  object\n",
      " 9   master_metadata_album_album_name   51186 non-null  object\n",
      " 10  spotify_track_uri                  51186 non-null  object\n",
      " 11  episode_name                       3 non-null      object\n",
      " 12  episode_show_name                  3 non-null      object\n",
      " 13  spotify_episode_uri                3 non-null      object\n",
      " 14  reason_start                       51189 non-null  object\n",
      " 15  reason_end                         51189 non-null  object\n",
      " 16  shuffle                            51189 non-null  bool  \n",
      " 17  skipped                            51189 non-null  bool  \n",
      " 18  offline                            51189 non-null  bool  \n",
      " 19  offline_timestamp                  51189 non-null  int64 \n",
      " 20  incognito_mode                     51189 non-null  bool  \n",
      "dtypes: bool(4), int64(2), object(15)\n",
      "memory usage: 6.8+ MB\n"
     ]
    }
   ],
   "source": [
    "big_df.info()"
   ]
  },
  {
   "cell_type": "markdown",
   "id": "2f05d511",
   "metadata": {},
   "source": [
    "## Transformación y limpieza del dataset original"
   ]
  },
  {
   "cell_type": "code",
   "execution_count": 4,
   "id": "5b0ec691",
   "metadata": {},
   "outputs": [],
   "source": [
    "big_df[[\"ts\"]] = big_df[[\"ts\"]].apply(pd.to_datetime)\n",
    "big_df[\"year_played\"] = big_df[\"ts\"].dt.year\n",
    "big_df[\"month_played\"] = big_df[\"ts\"].dt.month\n",
    "big_df[\"min\"] = big_df[\"ms_played\"]/60000\n",
    "big_df=big_df.rename(columns={\"ts\": \"timestamp\", \"conn_country\": \"country\", \"master_metadata_track_name\": \"song_name\", \"master_metadata_album_artist_name\": \"artist_name\"})\n",
    "column_filtered_df = big_df[[\"timestamp\",\"year_played\",\"month_played\",\"min\",\"country\", \"song_name\", \"artist_name\",\"spotify_track_uri\"]]"
   ]
  },
  {
   "cell_type": "code",
   "execution_count": 5,
   "id": "5b1102d1",
   "metadata": {},
   "outputs": [],
   "source": [
    "row_filtered_df = column_filtered_df.dropna()\n",
    "row_filtered_df = row_filtered_df.loc[row_filtered_df[\"year_played\"]==2023]\n",
    "row_filtered_df = row_filtered_df.loc[row_filtered_df[\"min\"]>0]"
   ]
  },
  {
   "cell_type": "markdown",
   "id": "36205d49",
   "metadata": {},
   "source": [
    "## Integración API"
   ]
  },
  {
   "cell_type": "code",
   "execution_count": 6,
   "id": "55c86bd9",
   "metadata": {},
   "outputs": [
    {
     "name": "stdout",
     "output_type": "stream",
     "text": [
      "Requirement already satisfied: spotipy in c:\\users\\pipe\\anaconda3\\lib\\site-packages (2.24.0)\n",
      "Requirement already satisfied: urllib3>=1.26.0 in c:\\users\\pipe\\anaconda3\\lib\\site-packages (from spotipy) (1.26.11)\n",
      "Requirement already satisfied: redis>=3.5.3 in c:\\users\\pipe\\anaconda3\\lib\\site-packages (from spotipy) (5.0.6)\n",
      "Requirement already satisfied: requests>=2.25.0 in c:\\users\\pipe\\anaconda3\\lib\\site-packages (from spotipy) (2.28.1)\n",
      "Requirement already satisfied: async-timeout>=4.0.3 in c:\\users\\pipe\\anaconda3\\lib\\site-packages (from redis>=3.5.3->spotipy) (4.0.3)\n",
      "Requirement already satisfied: certifi>=2017.4.17 in c:\\users\\pipe\\anaconda3\\lib\\site-packages (from requests>=2.25.0->spotipy) (2022.9.14)\n",
      "Requirement already satisfied: idna<4,>=2.5 in c:\\users\\pipe\\anaconda3\\lib\\site-packages (from requests>=2.25.0->spotipy) (3.3)\n",
      "Requirement already satisfied: charset-normalizer<3,>=2 in c:\\users\\pipe\\anaconda3\\lib\\site-packages (from requests>=2.25.0->spotipy) (2.0.4)\n"
     ]
    }
   ],
   "source": [
    "import sys\n",
    "!{sys.executable} -m pip install spotipy"
   ]
  },
  {
   "cell_type": "code",
   "execution_count": 35,
   "id": "0df94584",
   "metadata": {},
   "outputs": [],
   "source": [
    "import spotipy\n",
    "from spotipy.oauth2 import SpotifyClientCredentials\n",
    "client_id = \"\"\n",
    "client_secret = \"\"\n",
    "auth_manager = SpotifyClientCredentials(client_id=client_id,client_secret=client_secret)\n",
    "sp = spotipy.Spotify(auth_manager=auth_manager)\n",
    "\n",
    "def get_complementaries(tracks_uris):\n",
    "    tracks_df = pd.DataFrame(columns = [\"track_uri\",\"artist_uri\",\"year\",\"track_pop\"])\n",
    "    artists_df = pd.DataFrame(columns = [\"artist_uri\",\"genre\",\"artist_pop\"])\n",
    "    artist_uris = set()\n",
    "    tracks_uris_chunks = [tracks_uris[x:x+30] for x in range(0, len(tracks_uris), 30)]\n",
    "    for tracks_uris_chunk in tracks_uris_chunks:\n",
    "        tracks = sp.tracks(tracks_uris_chunk)\n",
    "        for track in tracks.get(\"tracks\"):\n",
    "            track_uri = track.get(\"uri\")\n",
    "            artist_uri = None\n",
    "            artists = track.get(\"artists\")\n",
    "            if artists:\n",
    "                artist_uri = artists[0].get(\"uri\")\n",
    "                artist_uris.add(artist_uri)\n",
    "            popularity = track.get(\"popularity\")\n",
    "            album = track.get(\"album\")\n",
    "            release_date = album.get(\"release_date\")\n",
    "            year = release_date[0:4] if release_date else None\n",
    "            tracks_df = pd.concat([tracks_df, pd.Series({\"track_uri\":track_uri,\"artist_uri\":artist_uri,\"year\":year,\"track_pop\":popularity}).to_frame().T], ignore_index=True)\n",
    "    artist_uris = list(artist_uris)\n",
    "    artists_uris_chunks = [artist_uris[x:x+30] for x in range(0, len(artist_uris), 30)]\n",
    "    for artists_uris_chunk in artists_uris_chunks:\n",
    "        artists = sp.artists(artists_uris_chunk)\n",
    "        for artist in artists.get(\"artists\"):\n",
    "            artist_uri = artist.get(\"uri\")\n",
    "            genres = artist.get(\"genres\")\n",
    "            genre = genres[0] if genres else None\n",
    "            popularity = artist.get(\"popularity\")\n",
    "            artists_df = pd.concat([artists_df, pd.Series({\"artist_uri\":artist_uri,\"genre\":genre,\"artist_pop\":popularity}).to_frame().T], ignore_index=True)\n",
    "    result = pd.merge(tracks_df, artists_df, on=\"artist_uri\")\n",
    "    return result"
   ]
  },
  {
   "cell_type": "code",
   "execution_count": 27,
   "id": "cef3c48a",
   "metadata": {},
   "outputs": [],
   "source": [
    "track_uri_list = row_filtered_df.groupby([\"song_name\", \"artist_name\"])[\"spotify_track_uri\"].first().reset_index()\n",
    "track_uri_list = track_uri_list.rename(columns={\"spotify_track_uri\":\"track_uri\"})"
   ]
  },
  {
   "cell_type": "code",
   "execution_count": 36,
   "id": "3c0891df",
   "metadata": {},
   "outputs": [],
   "source": [
    "test_df = track_uri_list.head(300)\n",
    "uris=list(test_df[\"track_uri\"])\n",
    "aux_df = get_complementaries(uris)"
   ]
  },
  {
   "cell_type": "code",
   "execution_count": 37,
   "id": "5347ca07",
   "metadata": {},
   "outputs": [
    {
     "data": {
      "text/html": [
       "<div>\n",
       "<style scoped>\n",
       "    .dataframe tbody tr th:only-of-type {\n",
       "        vertical-align: middle;\n",
       "    }\n",
       "\n",
       "    .dataframe tbody tr th {\n",
       "        vertical-align: top;\n",
       "    }\n",
       "\n",
       "    .dataframe thead th {\n",
       "        text-align: right;\n",
       "    }\n",
       "</style>\n",
       "<table border=\"1\" class=\"dataframe\">\n",
       "  <thead>\n",
       "    <tr style=\"text-align: right;\">\n",
       "      <th></th>\n",
       "      <th>song_name</th>\n",
       "      <th>artist_name</th>\n",
       "      <th>track_uri</th>\n",
       "      <th>artist_uri</th>\n",
       "      <th>year</th>\n",
       "      <th>track_pop</th>\n",
       "      <th>genre</th>\n",
       "      <th>artist_pop</th>\n",
       "    </tr>\n",
       "  </thead>\n",
       "  <tbody>\n",
       "    <tr>\n",
       "      <th>0</th>\n",
       "      <td>!Viva el Mal Viva el Capital!</td>\n",
       "      <td>Elektroduendes</td>\n",
       "      <td>spotify:track:6LrefSCg9Vnn1ckCeJkmbA</td>\n",
       "      <td>spotify:artist:7oboTHVarRYloS0WJxGSJW</td>\n",
       "      <td>2004</td>\n",
       "      <td>4</td>\n",
       "      <td>spanish punk</td>\n",
       "      <td>7</td>\n",
       "    </tr>\n",
       "    <tr>\n",
       "      <th>1</th>\n",
       "      <td>\"COSAS DEL QUERER\"</td>\n",
       "      <td>Rxnde Akozta</td>\n",
       "      <td>spotify:track:6vbUg2l6GvTwCMqnalorz0</td>\n",
       "      <td>spotify:artist:5YO3yQx97KLLE9zJYa4jaU</td>\n",
       "      <td>2023</td>\n",
       "      <td>42</td>\n",
       "      <td>boom bap espanol</td>\n",
       "      <td>42</td>\n",
       "    </tr>\n",
       "    <tr>\n",
       "      <th>2</th>\n",
       "      <td>\"F\"</td>\n",
       "      <td>MAXIMUM THE HORMONE</td>\n",
       "      <td>spotify:track:51br5d5nIel2Dm0PNP5X4N</td>\n",
       "      <td>spotify:artist:3AMut7lAb1JjINkn8Fmkhu</td>\n",
       "      <td>2013</td>\n",
       "      <td>45</td>\n",
       "      <td>japanese metalcore</td>\n",
       "      <td>51</td>\n",
       "    </tr>\n",
       "    <tr>\n",
       "      <th>3</th>\n",
       "      <td>\"Liar, Liar\"</td>\n",
       "      <td>The Castaways</td>\n",
       "      <td>spotify:track:4ggveFmRU0REGh6bVwxHqg</td>\n",
       "      <td>spotify:artist:3PbCnPQUMUHJXAI9g2Ld7V</td>\n",
       "      <td>1965</td>\n",
       "      <td>24</td>\n",
       "      <td>beach music</td>\n",
       "      <td>28</td>\n",
       "    </tr>\n",
       "    <tr>\n",
       "      <th>4</th>\n",
       "      <td>#Ysya2020 Vol. 5 - Silbando</td>\n",
       "      <td>YSY A</td>\n",
       "      <td>spotify:track:6TI490muJ6RgFsYJc626BZ</td>\n",
       "      <td>spotify:artist:2qWK8K2Jfh67UqtwY8tCW6</td>\n",
       "      <td>2020</td>\n",
       "      <td>63</td>\n",
       "      <td>argentine hip hop</td>\n",
       "      <td>74</td>\n",
       "    </tr>\n",
       "    <tr>\n",
       "      <th>...</th>\n",
       "      <td>...</td>\n",
       "      <td>...</td>\n",
       "      <td>...</td>\n",
       "      <td>...</td>\n",
       "      <td>...</td>\n",
       "      <td>...</td>\n",
       "      <td>...</td>\n",
       "      <td>...</td>\n",
       "    </tr>\n",
       "    <tr>\n",
       "      <th>295</th>\n",
       "      <td>Abriendo Trocha</td>\n",
       "      <td>Kiño</td>\n",
       "      <td>spotify:track:7GHu2XWZvQP7B3Ps5xzVlv</td>\n",
       "      <td>spotify:artist:4mSxhskrhEcz1mZNVf1GWa</td>\n",
       "      <td>2019</td>\n",
       "      <td>16</td>\n",
       "      <td>colombian hip hop</td>\n",
       "      <td>42</td>\n",
       "    </tr>\n",
       "    <tr>\n",
       "      <th>296</th>\n",
       "      <td>Abrázame Muy Fuerte</td>\n",
       "      <td>Juan Gabriel</td>\n",
       "      <td>spotify:track:2nejvFyJeTDtMRP2nUMt0J</td>\n",
       "      <td>spotify:artist:2MRBDr0crHWE5JwPceFncq</td>\n",
       "      <td>2000</td>\n",
       "      <td>67</td>\n",
       "      <td>cancion melodica</td>\n",
       "      <td>73</td>\n",
       "    </tr>\n",
       "    <tr>\n",
       "      <th>297</th>\n",
       "      <td>Absentee</td>\n",
       "      <td>Cass McCombs</td>\n",
       "      <td>spotify:track:23fEZLdzHoZlNZZu4E1pSp</td>\n",
       "      <td>spotify:artist:2iUVQjheBnvOt8vaBrxXJz</td>\n",
       "      <td>2019</td>\n",
       "      <td>51</td>\n",
       "      <td>baroque pop</td>\n",
       "      <td>43</td>\n",
       "    </tr>\n",
       "    <tr>\n",
       "      <th>298</th>\n",
       "      <td>Absinthe and Rue</td>\n",
       "      <td>Symphony X</td>\n",
       "      <td>spotify:track:77nnNbzXAAY3vRPwUMfioM</td>\n",
       "      <td>spotify:artist:4MnZkh4dpNmTMPxkl4Ev5L</td>\n",
       "      <td>1994</td>\n",
       "      <td>11</td>\n",
       "      <td>neo classical metal</td>\n",
       "      <td>44</td>\n",
       "    </tr>\n",
       "    <tr>\n",
       "      <th>299</th>\n",
       "      <td>Abusadora</td>\n",
       "      <td>Oro Solido</td>\n",
       "      <td>spotify:track:0Pr05tDGNCf4f8Fe8ubSJ4</td>\n",
       "      <td>spotify:artist:7wLYNBd1fXGEKSLJMNnlt4</td>\n",
       "      <td>2016</td>\n",
       "      <td>55</td>\n",
       "      <td>merengue</td>\n",
       "      <td>53</td>\n",
       "    </tr>\n",
       "  </tbody>\n",
       "</table>\n",
       "<p>300 rows × 8 columns</p>\n",
       "</div>"
      ],
      "text/plain": [
       "                         song_name          artist_name  \\\n",
       "0    !Viva el Mal Viva el Capital!       Elektroduendes   \n",
       "1               \"COSAS DEL QUERER\"         Rxnde Akozta   \n",
       "2                              \"F\"  MAXIMUM THE HORMONE   \n",
       "3                     \"Liar, Liar\"        The Castaways   \n",
       "4      #Ysya2020 Vol. 5 - Silbando                YSY A   \n",
       "..                             ...                  ...   \n",
       "295                Abriendo Trocha                 Kiño   \n",
       "296            Abrázame Muy Fuerte         Juan Gabriel   \n",
       "297                       Absentee         Cass McCombs   \n",
       "298               Absinthe and Rue           Symphony X   \n",
       "299                      Abusadora           Oro Solido   \n",
       "\n",
       "                                track_uri  \\\n",
       "0    spotify:track:6LrefSCg9Vnn1ckCeJkmbA   \n",
       "1    spotify:track:6vbUg2l6GvTwCMqnalorz0   \n",
       "2    spotify:track:51br5d5nIel2Dm0PNP5X4N   \n",
       "3    spotify:track:4ggveFmRU0REGh6bVwxHqg   \n",
       "4    spotify:track:6TI490muJ6RgFsYJc626BZ   \n",
       "..                                    ...   \n",
       "295  spotify:track:7GHu2XWZvQP7B3Ps5xzVlv   \n",
       "296  spotify:track:2nejvFyJeTDtMRP2nUMt0J   \n",
       "297  spotify:track:23fEZLdzHoZlNZZu4E1pSp   \n",
       "298  spotify:track:77nnNbzXAAY3vRPwUMfioM   \n",
       "299  spotify:track:0Pr05tDGNCf4f8Fe8ubSJ4   \n",
       "\n",
       "                                artist_uri  year track_pop  \\\n",
       "0    spotify:artist:7oboTHVarRYloS0WJxGSJW  2004         4   \n",
       "1    spotify:artist:5YO3yQx97KLLE9zJYa4jaU  2023        42   \n",
       "2    spotify:artist:3AMut7lAb1JjINkn8Fmkhu  2013        45   \n",
       "3    spotify:artist:3PbCnPQUMUHJXAI9g2Ld7V  1965        24   \n",
       "4    spotify:artist:2qWK8K2Jfh67UqtwY8tCW6  2020        63   \n",
       "..                                     ...   ...       ...   \n",
       "295  spotify:artist:4mSxhskrhEcz1mZNVf1GWa  2019        16   \n",
       "296  spotify:artist:2MRBDr0crHWE5JwPceFncq  2000        67   \n",
       "297  spotify:artist:2iUVQjheBnvOt8vaBrxXJz  2019        51   \n",
       "298  spotify:artist:4MnZkh4dpNmTMPxkl4Ev5L  1994        11   \n",
       "299  spotify:artist:7wLYNBd1fXGEKSLJMNnlt4  2016        55   \n",
       "\n",
       "                   genre artist_pop  \n",
       "0           spanish punk          7  \n",
       "1       boom bap espanol         42  \n",
       "2     japanese metalcore         51  \n",
       "3            beach music         28  \n",
       "4      argentine hip hop         74  \n",
       "..                   ...        ...  \n",
       "295    colombian hip hop         42  \n",
       "296     cancion melodica         73  \n",
       "297          baroque pop         43  \n",
       "298  neo classical metal         44  \n",
       "299             merengue         53  \n",
       "\n",
       "[300 rows x 8 columns]"
      ]
     },
     "execution_count": 37,
     "metadata": {},
     "output_type": "execute_result"
    }
   ],
   "source": [
    "pd.merge(test_df, aux_df, on=\"track_uri\")"
   ]
  },
  {
   "cell_type": "markdown",
   "id": "21e1da11",
   "metadata": {},
   "source": [
    "## Agregación de registros por canción"
   ]
  },
  {
   "cell_type": "code",
   "execution_count": 38,
   "id": "f24d0b06",
   "metadata": {},
   "outputs": [],
   "source": [
    "df_by_song_month = pd.pivot_table(\n",
    "   row_filtered_df,\n",
    "   index=[\"country\",\"song_name\", \"artist_name\"],\n",
    "   aggfunc={'min': np.sum, 'country': len}\n",
    ").rename(columns={'country': 'count'})\n",
    "df_by_song_month.sort_values(by=['min', 'count'],ascending=False, inplace=True)\n",
    "df_by_song_month.reset_index(inplace=True)"
   ]
  },
  {
   "cell_type": "code",
   "execution_count": 39,
   "id": "6b4a70bd",
   "metadata": {},
   "outputs": [
    {
     "name": "stdout",
     "output_type": "stream",
     "text": [
      "<class 'pandas.core.frame.DataFrame'>\n",
      "RangeIndex: 11338 entries, 0 to 11337\n",
      "Data columns (total 5 columns):\n",
      " #   Column       Non-Null Count  Dtype  \n",
      "---  ------       --------------  -----  \n",
      " 0   country      11338 non-null  object \n",
      " 1   song_name    11338 non-null  object \n",
      " 2   artist_name  11338 non-null  object \n",
      " 3   count        11338 non-null  int64  \n",
      " 4   min          11338 non-null  float64\n",
      "dtypes: float64(1), int64(1), object(3)\n",
      "memory usage: 443.0+ KB\n"
     ]
    }
   ],
   "source": [
    "df_by_song_month.info()"
   ]
  },
  {
   "cell_type": "code",
   "execution_count": 44,
   "id": "18cd99fb",
   "metadata": {},
   "outputs": [
    {
     "data": {
      "text/plain": [
       "46230.159583333334"
      ]
     },
     "execution_count": 44,
     "metadata": {},
     "output_type": "execute_result"
    }
   ],
   "source": [
    "df_by_song_month.loc[df_by_song_month[\"min\"]>0.25][\"min\"].sum()"
   ]
  }
 ],
 "metadata": {
  "kernelspec": {
   "display_name": "Python 3 (ipykernel)",
   "language": "python",
   "name": "python3"
  },
  "language_info": {
   "codemirror_mode": {
    "name": "ipython",
    "version": 3
   },
   "file_extension": ".py",
   "mimetype": "text/x-python",
   "name": "python",
   "nbconvert_exporter": "python",
   "pygments_lexer": "ipython3",
   "version": "3.9.13"
  }
 },
 "nbformat": 4,
 "nbformat_minor": 5
}
